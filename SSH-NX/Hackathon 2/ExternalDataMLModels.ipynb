{
 "cells": [
  {
   "cell_type": "code",
   "execution_count": 1,
   "id": "e8dc0c8c-8692-4671-93f1-592872c49200",
   "metadata": {},
   "outputs": [],
   "source": [
    "import pandas as pd\n",
    "import numpy as np\n",
    "import PIL\n",
    "\n",
    "from sklearn.feature_extraction.text import CountVectorizer\n",
    "from sklearn.model_selection import train_test_split\n",
    "from sklearn.ensemble import VotingClassifier\n",
    "\n",
    "\n",
    "from sklearn.linear_model import SGDClassifier, LogisticRegression\n",
    "from sklearn.tree import DecisionTreeClassifier\n",
    "from sklearn.svm import SVC\n",
    "from sklearn.neighbors import KNeighborsClassifier\n",
    "from sklearn.ensemble import RandomForestClassifier\n",
    "\n",
    "from sklearn.metrics import accuracy_score, confusion_matrix, f1_score, classification_report "
   ]
  },
  {
   "cell_type": "code",
   "execution_count": 2,
   "id": "1dc646d0-ecd7-450d-a9bd-b8ff35f2afaa",
   "metadata": {},
   "outputs": [
    {
     "data": {
      "text/html": [
       "<div>\n",
       "<style scoped>\n",
       "    .dataframe tbody tr th:only-of-type {\n",
       "        vertical-align: middle;\n",
       "    }\n",
       "\n",
       "    .dataframe tbody tr th {\n",
       "        vertical-align: top;\n",
       "    }\n",
       "\n",
       "    .dataframe thead th {\n",
       "        text-align: right;\n",
       "    }\n",
       "</style>\n",
       "<table border=\"1\" class=\"dataframe\">\n",
       "  <thead>\n",
       "    <tr style=\"text-align: right;\">\n",
       "      <th></th>\n",
       "      <th>Unnamed: 0</th>\n",
       "      <th>text</th>\n",
       "      <th>VADERsentiment</th>\n",
       "    </tr>\n",
       "  </thead>\n",
       "  <tbody>\n",
       "    <tr>\n",
       "      <th>0</th>\n",
       "      <td>0</td>\n",
       "      <td>Gahan</td>\n",
       "      <td>Neutral</td>\n",
       "    </tr>\n",
       "    <tr>\n",
       "      <th>1</th>\n",
       "      <td>1</td>\n",
       "      <td>advice Talk neighbours family exchange phone n...</td>\n",
       "      <td>Positive</td>\n",
       "    </tr>\n",
       "    <tr>\n",
       "      <th>2</th>\n",
       "      <td>2</td>\n",
       "      <td>Coronavirus Australia Woolworths give elderly ...</td>\n",
       "      <td>Positive</td>\n",
       "    </tr>\n",
       "    <tr>\n",
       "      <th>3</th>\n",
       "      <td>3</td>\n",
       "      <td>My food stock one empty ... PLEASE , ' panic ,...</td>\n",
       "      <td>Positive</td>\n",
       "    </tr>\n",
       "    <tr>\n",
       "      <th>4</th>\n",
       "      <td>4</td>\n",
       "      <td>Me , ready go supermarket #COVID19 outbreak. N...</td>\n",
       "      <td>Negative</td>\n",
       "    </tr>\n",
       "    <tr>\n",
       "      <th>...</th>\n",
       "      <td>...</td>\n",
       "      <td>...</td>\n",
       "      <td>...</td>\n",
       "    </tr>\n",
       "    <tr>\n",
       "      <th>41152</th>\n",
       "      <td>41152</td>\n",
       "      <td>Airline pilots offering stock supermarket shel...</td>\n",
       "      <td>Neutral</td>\n",
       "    </tr>\n",
       "    <tr>\n",
       "      <th>41153</th>\n",
       "      <td>41153</td>\n",
       "      <td>Response complaint provided citing COVID 19 re...</td>\n",
       "      <td>Negative</td>\n",
       "    </tr>\n",
       "    <tr>\n",
       "      <th>41154</th>\n",
       "      <td>41154</td>\n",
       "      <td>You know getting tough rationing toilet paper ...</td>\n",
       "      <td>Positive</td>\n",
       "    </tr>\n",
       "    <tr>\n",
       "      <th>41155</th>\n",
       "      <td>41155</td>\n",
       "      <td>Is wrong smell hand sanitizer starting turn #c...</td>\n",
       "      <td>Positive</td>\n",
       "    </tr>\n",
       "    <tr>\n",
       "      <th>41156</th>\n",
       "      <td>41156</td>\n",
       "      <td>Well new used Rift S going 700.00 Amazon rn al...</td>\n",
       "      <td>Negative</td>\n",
       "    </tr>\n",
       "  </tbody>\n",
       "</table>\n",
       "<p>41157 rows × 3 columns</p>\n",
       "</div>"
      ],
      "text/plain": [
       "       Unnamed: 0                                               text  \\\n",
       "0               0                                              Gahan   \n",
       "1               1  advice Talk neighbours family exchange phone n...   \n",
       "2               2  Coronavirus Australia Woolworths give elderly ...   \n",
       "3               3  My food stock one empty ... PLEASE , ' panic ,...   \n",
       "4               4  Me , ready go supermarket #COVID19 outbreak. N...   \n",
       "...           ...                                                ...   \n",
       "41152       41152  Airline pilots offering stock supermarket shel...   \n",
       "41153       41153  Response complaint provided citing COVID 19 re...   \n",
       "41154       41154  You know getting tough rationing toilet paper ...   \n",
       "41155       41155  Is wrong smell hand sanitizer starting turn #c...   \n",
       "41156       41156  Well new used Rift S going 700.00 Amazon rn al...   \n",
       "\n",
       "      VADERsentiment  \n",
       "0            Neutral  \n",
       "1           Positive  \n",
       "2           Positive  \n",
       "3           Positive  \n",
       "4           Negative  \n",
       "...              ...  \n",
       "41152        Neutral  \n",
       "41153       Negative  \n",
       "41154       Positive  \n",
       "41155       Positive  \n",
       "41156       Negative  \n",
       "\n",
       "[41157 rows x 3 columns]"
      ]
     },
     "execution_count": 2,
     "metadata": {},
     "output_type": "execute_result"
    }
   ],
   "source": [
    "df = pd.read_csv('external_labelled_tweets_clean.csv')\n",
    "df"
   ]
  },
  {
   "cell_type": "code",
   "execution_count": 3,
   "id": "6dcc2cd0-a0fa-4ab9-b52a-43589f99088d",
   "metadata": {},
   "outputs": [],
   "source": [
    "df = df.dropna()"
   ]
  },
  {
   "cell_type": "code",
   "execution_count": 4,
   "id": "df0a0834-3c77-4a3c-89f8-757b996d213e",
   "metadata": {},
   "outputs": [
    {
     "data": {
      "text/plain": [
       "Positive    18940\n",
       "Negative    15368\n",
       "Neutral      6848\n",
       "Name: VADERsentiment, dtype: int64"
      ]
     },
     "execution_count": 4,
     "metadata": {},
     "output_type": "execute_result"
    }
   ],
   "source": [
    "df['VADERsentiment'].value_counts()"
   ]
  },
  {
   "cell_type": "code",
   "execution_count": 5,
   "id": "2e5d1b21-81eb-462f-85ae-45db436d4917",
   "metadata": {},
   "outputs": [
    {
     "name": "stderr",
     "output_type": "stream",
     "text": [
      "/tmp/ipykernel_30038/2092271546.py:1: SettingWithCopyWarning: \n",
      "A value is trying to be set on a copy of a slice from a DataFrame.\n",
      "Try using .loc[row_indexer,col_indexer] = value instead\n",
      "\n",
      "See the caveats in the documentation: https://pandas.pydata.org/pandas-docs/stable/user_guide/indexing.html#returning-a-view-versus-a-copy\n",
      "  df['VADERsentiment'] = np.where(df['VADERsentiment'] == 'Positive', 1, 0)\n"
     ]
    }
   ],
   "source": [
    "df['VADERsentiment'] = np.where(df['VADERsentiment'] == 'Positive', 1, 0)"
   ]
  },
  {
   "cell_type": "code",
   "execution_count": 6,
   "id": "7db68eaa-fcfe-4126-bdd2-cfa3f6d0ef22",
   "metadata": {},
   "outputs": [
    {
     "data": {
      "text/html": [
       "<div>\n",
       "<style scoped>\n",
       "    .dataframe tbody tr th:only-of-type {\n",
       "        vertical-align: middle;\n",
       "    }\n",
       "\n",
       "    .dataframe tbody tr th {\n",
       "        vertical-align: top;\n",
       "    }\n",
       "\n",
       "    .dataframe thead th {\n",
       "        text-align: right;\n",
       "    }\n",
       "</style>\n",
       "<table border=\"1\" class=\"dataframe\">\n",
       "  <thead>\n",
       "    <tr style=\"text-align: right;\">\n",
       "      <th></th>\n",
       "      <th>Unnamed: 0</th>\n",
       "      <th>text</th>\n",
       "      <th>VADERsentiment</th>\n",
       "    </tr>\n",
       "  </thead>\n",
       "  <tbody>\n",
       "    <tr>\n",
       "      <th>0</th>\n",
       "      <td>0</td>\n",
       "      <td>Gahan</td>\n",
       "      <td>0</td>\n",
       "    </tr>\n",
       "    <tr>\n",
       "      <th>1</th>\n",
       "      <td>1</td>\n",
       "      <td>advice Talk neighbours family exchange phone n...</td>\n",
       "      <td>1</td>\n",
       "    </tr>\n",
       "    <tr>\n",
       "      <th>2</th>\n",
       "      <td>2</td>\n",
       "      <td>Coronavirus Australia Woolworths give elderly ...</td>\n",
       "      <td>1</td>\n",
       "    </tr>\n",
       "    <tr>\n",
       "      <th>3</th>\n",
       "      <td>3</td>\n",
       "      <td>My food stock one empty ... PLEASE , ' panic ,...</td>\n",
       "      <td>1</td>\n",
       "    </tr>\n",
       "    <tr>\n",
       "      <th>4</th>\n",
       "      <td>4</td>\n",
       "      <td>Me , ready go supermarket #COVID19 outbreak. N...</td>\n",
       "      <td>0</td>\n",
       "    </tr>\n",
       "    <tr>\n",
       "      <th>...</th>\n",
       "      <td>...</td>\n",
       "      <td>...</td>\n",
       "      <td>...</td>\n",
       "    </tr>\n",
       "    <tr>\n",
       "      <th>41152</th>\n",
       "      <td>41152</td>\n",
       "      <td>Airline pilots offering stock supermarket shel...</td>\n",
       "      <td>0</td>\n",
       "    </tr>\n",
       "    <tr>\n",
       "      <th>41153</th>\n",
       "      <td>41153</td>\n",
       "      <td>Response complaint provided citing COVID 19 re...</td>\n",
       "      <td>0</td>\n",
       "    </tr>\n",
       "    <tr>\n",
       "      <th>41154</th>\n",
       "      <td>41154</td>\n",
       "      <td>You know getting tough rationing toilet paper ...</td>\n",
       "      <td>1</td>\n",
       "    </tr>\n",
       "    <tr>\n",
       "      <th>41155</th>\n",
       "      <td>41155</td>\n",
       "      <td>Is wrong smell hand sanitizer starting turn #c...</td>\n",
       "      <td>1</td>\n",
       "    </tr>\n",
       "    <tr>\n",
       "      <th>41156</th>\n",
       "      <td>41156</td>\n",
       "      <td>Well new used Rift S going 700.00 Amazon rn al...</td>\n",
       "      <td>0</td>\n",
       "    </tr>\n",
       "  </tbody>\n",
       "</table>\n",
       "<p>41156 rows × 3 columns</p>\n",
       "</div>"
      ],
      "text/plain": [
       "       Unnamed: 0                                               text  \\\n",
       "0               0                                              Gahan   \n",
       "1               1  advice Talk neighbours family exchange phone n...   \n",
       "2               2  Coronavirus Australia Woolworths give elderly ...   \n",
       "3               3  My food stock one empty ... PLEASE , ' panic ,...   \n",
       "4               4  Me , ready go supermarket #COVID19 outbreak. N...   \n",
       "...           ...                                                ...   \n",
       "41152       41152  Airline pilots offering stock supermarket shel...   \n",
       "41153       41153  Response complaint provided citing COVID 19 re...   \n",
       "41154       41154  You know getting tough rationing toilet paper ...   \n",
       "41155       41155  Is wrong smell hand sanitizer starting turn #c...   \n",
       "41156       41156  Well new used Rift S going 700.00 Amazon rn al...   \n",
       "\n",
       "       VADERsentiment  \n",
       "0                   0  \n",
       "1                   1  \n",
       "2                   1  \n",
       "3                   1  \n",
       "4                   0  \n",
       "...               ...  \n",
       "41152               0  \n",
       "41153               0  \n",
       "41154               1  \n",
       "41155               1  \n",
       "41156               0  \n",
       "\n",
       "[41156 rows x 3 columns]"
      ]
     },
     "execution_count": 6,
     "metadata": {},
     "output_type": "execute_result"
    }
   ],
   "source": [
    "df"
   ]
  },
  {
   "cell_type": "code",
   "execution_count": 7,
   "id": "fdc15f97-1bf0-43f4-b244-e22ecf76705d",
   "metadata": {},
   "outputs": [],
   "source": [
    "binary_df = df"
   ]
  },
  {
   "cell_type": "code",
   "execution_count": 8,
   "id": "195068df-7a9a-4f55-b4dd-ce64f606ad35",
   "metadata": {},
   "outputs": [
    {
     "data": {
      "text/plain": [
       "0    22216\n",
       "1    18940\n",
       "Name: VADERsentiment, dtype: int64"
      ]
     },
     "execution_count": 8,
     "metadata": {},
     "output_type": "execute_result"
    }
   ],
   "source": [
    "binary_df['VADERsentiment'].value_counts()"
   ]
  },
  {
   "cell_type": "code",
   "execution_count": 9,
   "id": "e0cfaae4-0709-4d4e-ba82-76be888a3ed6",
   "metadata": {},
   "outputs": [],
   "source": [
    "pos_samples = binary_df[binary_df['VADERsentiment']==1]\n",
    "neg_samples = binary_df[binary_df['VADERsentiment']==0]"
   ]
  },
  {
   "cell_type": "code",
   "execution_count": 10,
   "id": "357f0426-988d-4c2a-a498-cc365caaaf36",
   "metadata": {},
   "outputs": [],
   "source": [
    "balanced_binary_df = pd.concat([pos_samples, neg_samples])"
   ]
  },
  {
   "cell_type": "code",
   "execution_count": 11,
   "id": "c0def611-75fd-4880-b33e-8a7967775a19",
   "metadata": {},
   "outputs": [
    {
     "data": {
      "text/html": [
       "<div>\n",
       "<style scoped>\n",
       "    .dataframe tbody tr th:only-of-type {\n",
       "        vertical-align: middle;\n",
       "    }\n",
       "\n",
       "    .dataframe tbody tr th {\n",
       "        vertical-align: top;\n",
       "    }\n",
       "\n",
       "    .dataframe thead th {\n",
       "        text-align: right;\n",
       "    }\n",
       "</style>\n",
       "<table border=\"1\" class=\"dataframe\">\n",
       "  <thead>\n",
       "    <tr style=\"text-align: right;\">\n",
       "      <th></th>\n",
       "      <th>Unnamed: 0</th>\n",
       "      <th>text</th>\n",
       "      <th>VADERsentiment</th>\n",
       "    </tr>\n",
       "  </thead>\n",
       "  <tbody>\n",
       "    <tr>\n",
       "      <th>1</th>\n",
       "      <td>1</td>\n",
       "      <td>advice Talk neighbours family exchange phone n...</td>\n",
       "      <td>1</td>\n",
       "    </tr>\n",
       "    <tr>\n",
       "      <th>2</th>\n",
       "      <td>2</td>\n",
       "      <td>Coronavirus Australia Woolworths give elderly ...</td>\n",
       "      <td>1</td>\n",
       "    </tr>\n",
       "    <tr>\n",
       "      <th>3</th>\n",
       "      <td>3</td>\n",
       "      <td>My food stock one empty ... PLEASE , ' panic ,...</td>\n",
       "      <td>1</td>\n",
       "    </tr>\n",
       "    <tr>\n",
       "      <th>5</th>\n",
       "      <td>5</td>\n",
       "      <td>As news region first confirmed COVID 19 case c...</td>\n",
       "      <td>1</td>\n",
       "    </tr>\n",
       "    <tr>\n",
       "      <th>6</th>\n",
       "      <td>6</td>\n",
       "      <td>Cashier grocery store sharing insights #Covid ...</td>\n",
       "      <td>1</td>\n",
       "    </tr>\n",
       "    <tr>\n",
       "      <th>...</th>\n",
       "      <td>...</td>\n",
       "      <td>...</td>\n",
       "      <td>...</td>\n",
       "    </tr>\n",
       "    <tr>\n",
       "      <th>41147</th>\n",
       "      <td>41147</td>\n",
       "      <td>Y really shitting much home #COVID19 #coronavi...</td>\n",
       "      <td>0</td>\n",
       "    </tr>\n",
       "    <tr>\n",
       "      <th>41149</th>\n",
       "      <td>41149</td>\n",
       "      <td>Still shocked number #Toronto supermarket empl...</td>\n",
       "      <td>0</td>\n",
       "    </tr>\n",
       "    <tr>\n",
       "      <th>41152</th>\n",
       "      <td>41152</td>\n",
       "      <td>Airline pilots offering stock supermarket shel...</td>\n",
       "      <td>0</td>\n",
       "    </tr>\n",
       "    <tr>\n",
       "      <th>41153</th>\n",
       "      <td>41153</td>\n",
       "      <td>Response complaint provided citing COVID 19 re...</td>\n",
       "      <td>0</td>\n",
       "    </tr>\n",
       "    <tr>\n",
       "      <th>41156</th>\n",
       "      <td>41156</td>\n",
       "      <td>Well new used Rift S going 700.00 Amazon rn al...</td>\n",
       "      <td>0</td>\n",
       "    </tr>\n",
       "  </tbody>\n",
       "</table>\n",
       "<p>41156 rows × 3 columns</p>\n",
       "</div>"
      ],
      "text/plain": [
       "       Unnamed: 0                                               text  \\\n",
       "1               1  advice Talk neighbours family exchange phone n...   \n",
       "2               2  Coronavirus Australia Woolworths give elderly ...   \n",
       "3               3  My food stock one empty ... PLEASE , ' panic ,...   \n",
       "5               5  As news region first confirmed COVID 19 case c...   \n",
       "6               6  Cashier grocery store sharing insights #Covid ...   \n",
       "...           ...                                                ...   \n",
       "41147       41147  Y really shitting much home #COVID19 #coronavi...   \n",
       "41149       41149  Still shocked number #Toronto supermarket empl...   \n",
       "41152       41152  Airline pilots offering stock supermarket shel...   \n",
       "41153       41153  Response complaint provided citing COVID 19 re...   \n",
       "41156       41156  Well new used Rift S going 700.00 Amazon rn al...   \n",
       "\n",
       "       VADERsentiment  \n",
       "1                   1  \n",
       "2                   1  \n",
       "3                   1  \n",
       "5                   1  \n",
       "6                   1  \n",
       "...               ...  \n",
       "41147               0  \n",
       "41149               0  \n",
       "41152               0  \n",
       "41153               0  \n",
       "41156               0  \n",
       "\n",
       "[41156 rows x 3 columns]"
      ]
     },
     "execution_count": 11,
     "metadata": {},
     "output_type": "execute_result"
    }
   ],
   "source": [
    "balanced_binary_df"
   ]
  },
  {
   "cell_type": "code",
   "execution_count": 12,
   "id": "45aeb2d8-410f-4ef2-9407-036f868b1b15",
   "metadata": {},
   "outputs": [
    {
     "data": {
      "text/plain": [
       "0    22216\n",
       "1    18940\n",
       "Name: VADERsentiment, dtype: int64"
      ]
     },
     "execution_count": 12,
     "metadata": {},
     "output_type": "execute_result"
    }
   ],
   "source": [
    "balanced_binary_df['VADERsentiment'].value_counts()"
   ]
  },
  {
   "cell_type": "code",
   "execution_count": 13,
   "id": "e50f1774-20ca-4ac7-9c07-de22431871a2",
   "metadata": {},
   "outputs": [],
   "source": [
    "tweets = balanced_binary_df['text']\n",
    "sentiments = balanced_binary_df['VADERsentiment']"
   ]
  },
  {
   "cell_type": "code",
   "execution_count": 14,
   "id": "cde9bb66-f232-42f2-9522-213419cdafdd",
   "metadata": {},
   "outputs": [],
   "source": [
    "X_train, X_test, y_train, y_test  = train_test_split(tweets, sentiments, test_size=0.2, random_state=42)"
   ]
  },
  {
   "cell_type": "code",
   "execution_count": 15,
   "id": "2504dbd8-cdeb-4251-a073-9d45bcfd7314",
   "metadata": {},
   "outputs": [],
   "source": [
    "cv = CountVectorizer(analyzer='word', ngram_range=(1,2)) "
   ]
  },
  {
   "cell_type": "code",
   "execution_count": 16,
   "id": "edc2190d-66ae-4646-8d6d-8f7a7fe30f03",
   "metadata": {},
   "outputs": [],
   "source": [
    "cv_train_features = cv.fit_transform(X_train) "
   ]
  },
  {
   "cell_type": "code",
   "execution_count": 17,
   "id": "fa0fd18b-8c7f-4583-a2cd-36f1f5e3d2ca",
   "metadata": {},
   "outputs": [],
   "source": [
    "cv_test_features = cv.transform(X_test)"
   ]
  },
  {
   "cell_type": "code",
   "execution_count": 58,
   "id": "024532fd-ca79-4d15-8044-0e9b7781a0f1",
   "metadata": {},
   "outputs": [],
   "source": [
    "# Support vector machine model\n",
    "svm = SGDClassifier(loss='hinge', l1_ratio=0.15, max_iter=300, n_jobs=4, random_state=301)\n",
    "# Decision tree model\n",
    "dt = DecisionTreeClassifier(criterion = 'gini',splitter = 'best', random_state = 0)\n",
    "# Random forest model\n",
    "rf = RandomForestClassifier(n_estimators = 150, criterion = 'gini', random_state = 0)\n",
    "# Logistic regression model\n",
    "lr = LogisticRegression(max_iter=10000, C=1, multi_class='auto', solver='newton-cg')\n",
    "# Kernel svm model\n",
    "kernel_svm = SVC(kernel = 'linear', random_state = 0, gamma='scale')\n",
    "# K nearest neighbours model\n",
    "knn = KNeighborsClassifier(n_neighbors = 1, metric = 'minkowski', p = 2)"
   ]
  },
  {
   "cell_type": "code",
   "execution_count": 62,
   "id": "5979e869-0410-4f03-8ad3-a98ee8af2758",
   "metadata": {},
   "outputs": [],
   "source": [
    "classifier = VotingClassifier(estimators=[('knn',knn),('kernel_svm',kernel_svm)], voting='hard')"
   ]
  },
  {
   "cell_type": "code",
   "execution_count": 63,
   "id": "60d6cc0e-121d-4a9e-887b-781d65fe276f",
   "metadata": {},
   "outputs": [],
   "source": [
    "def train_predict_model(classifier,  train_features, train_labels,  test_features, test_labels):\n",
    "    \n",
    "    # build the model    \n",
    "    classifier.fit(train_features, train_labels)\n",
    "    # make predictions using model\n",
    "    y_pred = classifier.predict(test_features) \n",
    "    \n",
    "    return y_pred"
   ]
  },
  {
   "cell_type": "code",
   "execution_count": null,
   "id": "30c279ab-70a9-43a3-bb41-9bd1125f9190",
   "metadata": {
    "tags": []
   },
   "outputs": [],
   "source": [
    "y_pred = train_predict_model(classifier=classifier,\n",
    "                             train_features=cv_train_features,\n",
    "                             train_labels= y_train,\n",
    "                             test_features=cv_test_features,\n",
    "                             test_labels= y_test)"
   ]
  },
  {
   "cell_type": "code",
   "execution_count": null,
   "id": "699a7b22-4728-41eb-9abe-37fe9438c465",
   "metadata": {},
   "outputs": [],
   "source": [
    "cm = confusion_matrix(y_test, y_pred)\n",
    "accuracy = accuracy_score(y_test, y_pred)\n",
    "f1 = f1_score(y_test, y_pred, average='weighted')\n",
    "\n",
    "# Print out the results\n",
    "print('Confusion Matrix:', '\\n')\n",
    "print(cm, '\\n')\n",
    "print('Accuracy = ', accuracy)\n",
    "print('F1 Score = ',f1, '\\n')\n",
    "print(classification_report(y_test, y_pred))"
   ]
  },
  {
   "cell_type": "code",
   "execution_count": null,
   "id": "4b40b658-6026-49f6-98de-c8d74497be8a",
   "metadata": {},
   "outputs": [],
   "source": []
  },
  {
   "cell_type": "code",
   "execution_count": null,
   "id": "08aaa7c5-f3d3-424a-b5eb-adc337bd3964",
   "metadata": {},
   "outputs": [],
   "source": []
  },
  {
   "cell_type": "code",
   "execution_count": null,
   "id": "867dd0a2-eefe-4122-9607-a936a03cf862",
   "metadata": {},
   "outputs": [],
   "source": []
  }
 ],
 "metadata": {
  "kernelspec": {
   "display_name": "Python 3.8",
   "language": "python",
   "name": "python3"
  },
  "language_info": {
   "codemirror_mode": {
    "name": "ipython",
    "version": 3
   },
   "file_extension": ".py",
   "mimetype": "text/x-python",
   "name": "python",
   "nbconvert_exporter": "python",
   "pygments_lexer": "ipython3",
   "version": "3.8.10"
  }
 },
 "nbformat": 4,
 "nbformat_minor": 5
}
