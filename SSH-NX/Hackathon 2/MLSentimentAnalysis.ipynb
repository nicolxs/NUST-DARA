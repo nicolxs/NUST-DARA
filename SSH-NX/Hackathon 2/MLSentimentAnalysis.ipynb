{
 "cells": [
  {
   "cell_type": "code",
   "execution_count": 1,
   "id": "8ff0574d-3105-49e3-93f3-9c5da0270c07",
   "metadata": {},
   "outputs": [],
   "source": [
    "import pandas as pd\n",
    "import numpy as np\n",
    "import PIL\n",
    "\n",
    "from sklearn.feature_extraction.text import CountVectorizer\n",
    "from sklearn.model_selection import train_test_split\n",
    "\n",
    "from sklearn.linear_model import SGDClassifier, LogisticRegression\n",
    "from sklearn.tree import DecisionTreeClassifier\n",
    "from sklearn.svm import SVC\n",
    "from sklearn.neighbors import KNeighborsClassifier\n",
    "from sklearn.ensemble import RandomForestClassifier\n",
    "\n",
    "from sklearn.metrics import accuracy_score, confusion_matrix, f1_score, classification_report "
   ]
  },
  {
   "cell_type": "code",
   "execution_count": 2,
   "id": "8c173fba-74d5-4a9f-bf4b-2423f94cf0b0",
   "metadata": {},
   "outputs": [
    {
     "data": {
      "text/html": [
       "<div>\n",
       "<style scoped>\n",
       "    .dataframe tbody tr th:only-of-type {\n",
       "        vertical-align: middle;\n",
       "    }\n",
       "\n",
       "    .dataframe tbody tr th {\n",
       "        vertical-align: top;\n",
       "    }\n",
       "\n",
       "    .dataframe thead th {\n",
       "        text-align: right;\n",
       "    }\n",
       "</style>\n",
       "<table border=\"1\" class=\"dataframe\">\n",
       "  <thead>\n",
       "    <tr style=\"text-align: right;\">\n",
       "      <th></th>\n",
       "      <th>Unnamed: 0</th>\n",
       "      <th>Tweet</th>\n",
       "      <th>VADERsentiment</th>\n",
       "    </tr>\n",
       "  </thead>\n",
       "  <tbody>\n",
       "    <tr>\n",
       "      <th>0</th>\n",
       "      <td>0</td>\n",
       "      <td>must blame mr ekandjo ! everything belong swapo .</td>\n",
       "      <td>Negative</td>\n",
       "    </tr>\n",
       "    <tr>\n",
       "      <th>1</th>\n",
       "      <td>1</td>\n",
       "      <td>call national flag say belong swapo ? contradi...</td>\n",
       "      <td>Negative</td>\n",
       "    </tr>\n",
       "    <tr>\n",
       "      <th>2</th>\n",
       "      <td>2</td>\n",
       "      <td>immanuel benefits swapo wants stay power till ...</td>\n",
       "      <td>Positive</td>\n",
       "    </tr>\n",
       "    <tr>\n",
       "      <th>3</th>\n",
       "      <td>3</td>\n",
       "      <td>swanu flag inspired swapo flag ?</td>\n",
       "      <td>Positive</td>\n",
       "    </tr>\n",
       "    <tr>\n",
       "      <th>4</th>\n",
       "      <td>4</td>\n",
       "      <td>swapo wants rule enrich pockets like pm. kak b...</td>\n",
       "      <td>Positive</td>\n",
       "    </tr>\n",
       "    <tr>\n",
       "      <th>...</th>\n",
       "      <td>...</td>\n",
       "      <td>...</td>\n",
       "      <td>...</td>\n",
       "    </tr>\n",
       "    <tr>\n",
       "      <th>143</th>\n",
       "      <td>143</td>\n",
       "      <td>blame public relations team swapo , tell good ...</td>\n",
       "      <td>Positive</td>\n",
       "    </tr>\n",
       "    <tr>\n",
       "      <th>144</th>\n",
       "      <td>144</td>\n",
       "      <td>mekondjo cases , complaints even taken serious...</td>\n",
       "      <td>Negative</td>\n",
       "    </tr>\n",
       "    <tr>\n",
       "      <th>145</th>\n",
       "      <td>145</td>\n",
       "      <td>swapo ' oshana regional coordinator , samuel n...</td>\n",
       "      <td>Positive</td>\n",
       "    </tr>\n",
       "    <tr>\n",
       "      <th>146</th>\n",
       "      <td>146</td>\n",
       "      <td>cde , ask pres question prepare swapo elective...</td>\n",
       "      <td>Positive</td>\n",
       "    </tr>\n",
       "    <tr>\n",
       "      <th>147</th>\n",
       "      <td>147</td>\n",
       "      <td>vulnerable people getting vouchers use agra in...</td>\n",
       "      <td>Negative</td>\n",
       "    </tr>\n",
       "  </tbody>\n",
       "</table>\n",
       "<p>148 rows × 3 columns</p>\n",
       "</div>"
      ],
      "text/plain": [
       "     Unnamed: 0                                              Tweet  \\\n",
       "0             0  must blame mr ekandjo ! everything belong swapo .   \n",
       "1             1  call national flag say belong swapo ? contradi...   \n",
       "2             2  immanuel benefits swapo wants stay power till ...   \n",
       "3             3                   swanu flag inspired swapo flag ?   \n",
       "4             4  swapo wants rule enrich pockets like pm. kak b...   \n",
       "..          ...                                                ...   \n",
       "143         143  blame public relations team swapo , tell good ...   \n",
       "144         144  mekondjo cases , complaints even taken serious...   \n",
       "145         145  swapo ' oshana regional coordinator , samuel n...   \n",
       "146         146  cde , ask pres question prepare swapo elective...   \n",
       "147         147  vulnerable people getting vouchers use agra in...   \n",
       "\n",
       "    VADERsentiment  \n",
       "0         Negative  \n",
       "1         Negative  \n",
       "2         Positive  \n",
       "3         Positive  \n",
       "4         Positive  \n",
       "..             ...  \n",
       "143       Positive  \n",
       "144       Negative  \n",
       "145       Positive  \n",
       "146       Positive  \n",
       "147       Negative  \n",
       "\n",
       "[148 rows x 3 columns]"
      ]
     },
     "execution_count": 2,
     "metadata": {},
     "output_type": "execute_result"
    }
   ],
   "source": [
    "df = pd.read_csv('labelled_tweets_clean.csv')\n",
    "df"
   ]
  },
  {
   "cell_type": "code",
   "execution_count": 3,
   "id": "509e12c9-3447-4172-a7ff-f68e15cd0de8",
   "metadata": {},
   "outputs": [
    {
     "name": "stdout",
     "output_type": "stream",
     "text": [
      "<class 'pandas.core.frame.DataFrame'>\n",
      "RangeIndex: 148 entries, 0 to 147\n",
      "Data columns (total 3 columns):\n",
      " #   Column          Non-Null Count  Dtype \n",
      "---  ------          --------------  ----- \n",
      " 0   Unnamed: 0      148 non-null    int64 \n",
      " 1   Tweet           148 non-null    object\n",
      " 2   VADERsentiment  148 non-null    object\n",
      "dtypes: int64(1), object(2)\n",
      "memory usage: 3.6+ KB\n"
     ]
    }
   ],
   "source": [
    "df.info()"
   ]
  },
  {
   "cell_type": "code",
   "execution_count": 4,
   "id": "576fde54-6e86-4862-b87d-3cbec75a4279",
   "metadata": {},
   "outputs": [],
   "source": [
    "df = df.dropna()"
   ]
  },
  {
   "cell_type": "code",
   "execution_count": 5,
   "id": "d7b04a7c-3072-42ff-9b33-db0922535a88",
   "metadata": {},
   "outputs": [
    {
     "data": {
      "text/plain": [
       "Positive    79\n",
       "Negative    44\n",
       "Neutral     25\n",
       "Name: VADERsentiment, dtype: int64"
      ]
     },
     "execution_count": 5,
     "metadata": {},
     "output_type": "execute_result"
    }
   ],
   "source": [
    "df['VADERsentiment'].value_counts()"
   ]
  },
  {
   "cell_type": "code",
   "execution_count": null,
   "id": "88337a3c-56d7-49f4-a2ef-028b705f0050",
   "metadata": {},
   "outputs": [],
   "source": []
  },
  {
   "cell_type": "code",
   "execution_count": 6,
   "id": "91606b87-dcbe-4e84-b89b-7007970ad56f",
   "metadata": {},
   "outputs": [],
   "source": [
    "df['VADERsentiment'] = np.where(df['VADERsentiment'] == 'Positive', 1, 0)"
   ]
  },
  {
   "cell_type": "code",
   "execution_count": 7,
   "id": "63e4f66b-a4bb-4d36-abda-1a241926dd12",
   "metadata": {},
   "outputs": [],
   "source": [
    "binary_df = df"
   ]
  },
  {
   "cell_type": "code",
   "execution_count": 8,
   "id": "90db39ca-6464-4e50-9f9e-c8b0175f36dc",
   "metadata": {},
   "outputs": [
    {
     "data": {
      "text/html": [
       "<div>\n",
       "<style scoped>\n",
       "    .dataframe tbody tr th:only-of-type {\n",
       "        vertical-align: middle;\n",
       "    }\n",
       "\n",
       "    .dataframe tbody tr th {\n",
       "        vertical-align: top;\n",
       "    }\n",
       "\n",
       "    .dataframe thead th {\n",
       "        text-align: right;\n",
       "    }\n",
       "</style>\n",
       "<table border=\"1\" class=\"dataframe\">\n",
       "  <thead>\n",
       "    <tr style=\"text-align: right;\">\n",
       "      <th></th>\n",
       "      <th>Unnamed: 0</th>\n",
       "      <th>Tweet</th>\n",
       "      <th>VADERsentiment</th>\n",
       "    </tr>\n",
       "  </thead>\n",
       "  <tbody>\n",
       "    <tr>\n",
       "      <th>0</th>\n",
       "      <td>0</td>\n",
       "      <td>must blame mr ekandjo ! everything belong swapo .</td>\n",
       "      <td>0</td>\n",
       "    </tr>\n",
       "    <tr>\n",
       "      <th>1</th>\n",
       "      <td>1</td>\n",
       "      <td>call national flag say belong swapo ? contradi...</td>\n",
       "      <td>0</td>\n",
       "    </tr>\n",
       "    <tr>\n",
       "      <th>2</th>\n",
       "      <td>2</td>\n",
       "      <td>immanuel benefits swapo wants stay power till ...</td>\n",
       "      <td>1</td>\n",
       "    </tr>\n",
       "    <tr>\n",
       "      <th>3</th>\n",
       "      <td>3</td>\n",
       "      <td>swanu flag inspired swapo flag ?</td>\n",
       "      <td>1</td>\n",
       "    </tr>\n",
       "    <tr>\n",
       "      <th>4</th>\n",
       "      <td>4</td>\n",
       "      <td>swapo wants rule enrich pockets like pm. kak b...</td>\n",
       "      <td>1</td>\n",
       "    </tr>\n",
       "    <tr>\n",
       "      <th>...</th>\n",
       "      <td>...</td>\n",
       "      <td>...</td>\n",
       "      <td>...</td>\n",
       "    </tr>\n",
       "    <tr>\n",
       "      <th>143</th>\n",
       "      <td>143</td>\n",
       "      <td>blame public relations team swapo , tell good ...</td>\n",
       "      <td>1</td>\n",
       "    </tr>\n",
       "    <tr>\n",
       "      <th>144</th>\n",
       "      <td>144</td>\n",
       "      <td>mekondjo cases , complaints even taken serious...</td>\n",
       "      <td>0</td>\n",
       "    </tr>\n",
       "    <tr>\n",
       "      <th>145</th>\n",
       "      <td>145</td>\n",
       "      <td>swapo ' oshana regional coordinator , samuel n...</td>\n",
       "      <td>1</td>\n",
       "    </tr>\n",
       "    <tr>\n",
       "      <th>146</th>\n",
       "      <td>146</td>\n",
       "      <td>cde , ask pres question prepare swapo elective...</td>\n",
       "      <td>1</td>\n",
       "    </tr>\n",
       "    <tr>\n",
       "      <th>147</th>\n",
       "      <td>147</td>\n",
       "      <td>vulnerable people getting vouchers use agra in...</td>\n",
       "      <td>0</td>\n",
       "    </tr>\n",
       "  </tbody>\n",
       "</table>\n",
       "<p>148 rows × 3 columns</p>\n",
       "</div>"
      ],
      "text/plain": [
       "     Unnamed: 0                                              Tweet  \\\n",
       "0             0  must blame mr ekandjo ! everything belong swapo .   \n",
       "1             1  call national flag say belong swapo ? contradi...   \n",
       "2             2  immanuel benefits swapo wants stay power till ...   \n",
       "3             3                   swanu flag inspired swapo flag ?   \n",
       "4             4  swapo wants rule enrich pockets like pm. kak b...   \n",
       "..          ...                                                ...   \n",
       "143         143  blame public relations team swapo , tell good ...   \n",
       "144         144  mekondjo cases , complaints even taken serious...   \n",
       "145         145  swapo ' oshana regional coordinator , samuel n...   \n",
       "146         146  cde , ask pres question prepare swapo elective...   \n",
       "147         147  vulnerable people getting vouchers use agra in...   \n",
       "\n",
       "     VADERsentiment  \n",
       "0                 0  \n",
       "1                 0  \n",
       "2                 1  \n",
       "3                 1  \n",
       "4                 1  \n",
       "..              ...  \n",
       "143               1  \n",
       "144               0  \n",
       "145               1  \n",
       "146               1  \n",
       "147               0  \n",
       "\n",
       "[148 rows x 3 columns]"
      ]
     },
     "execution_count": 8,
     "metadata": {},
     "output_type": "execute_result"
    }
   ],
   "source": [
    "binary_df"
   ]
  },
  {
   "cell_type": "code",
   "execution_count": 9,
   "id": "79a5c074-4b9f-4d18-961f-2613810dda9e",
   "metadata": {},
   "outputs": [
    {
     "data": {
      "text/plain": [
       "1    79\n",
       "0    69\n",
       "Name: VADERsentiment, dtype: int64"
      ]
     },
     "execution_count": 9,
     "metadata": {},
     "output_type": "execute_result"
    }
   ],
   "source": [
    "binary_df['VADERsentiment'].value_counts()"
   ]
  },
  {
   "cell_type": "code",
   "execution_count": 10,
   "id": "83832cc8-6f8c-48aa-9fb3-aac073c7b653",
   "metadata": {},
   "outputs": [],
   "source": [
    "pos_samples = binary_df[binary_df['VADERsentiment']==1]\n",
    "neg_samples = binary_df[binary_df['VADERsentiment']==0]"
   ]
  },
  {
   "cell_type": "code",
   "execution_count": 11,
   "id": "4140c53d-1622-4981-a13e-798b5d118e83",
   "metadata": {},
   "outputs": [],
   "source": [
    "balanced_binary_df = pd.concat([pos_samples, neg_samples])"
   ]
  },
  {
   "cell_type": "code",
   "execution_count": 12,
   "id": "04ff2ecf-401b-4998-b7e9-7a5c959578ad",
   "metadata": {},
   "outputs": [
    {
     "data": {
      "text/html": [
       "<div>\n",
       "<style scoped>\n",
       "    .dataframe tbody tr th:only-of-type {\n",
       "        vertical-align: middle;\n",
       "    }\n",
       "\n",
       "    .dataframe tbody tr th {\n",
       "        vertical-align: top;\n",
       "    }\n",
       "\n",
       "    .dataframe thead th {\n",
       "        text-align: right;\n",
       "    }\n",
       "</style>\n",
       "<table border=\"1\" class=\"dataframe\">\n",
       "  <thead>\n",
       "    <tr style=\"text-align: right;\">\n",
       "      <th></th>\n",
       "      <th>Unnamed: 0</th>\n",
       "      <th>Tweet</th>\n",
       "      <th>VADERsentiment</th>\n",
       "    </tr>\n",
       "  </thead>\n",
       "  <tbody>\n",
       "    <tr>\n",
       "      <th>2</th>\n",
       "      <td>2</td>\n",
       "      <td>immanuel benefits swapo wants stay power till ...</td>\n",
       "      <td>1</td>\n",
       "    </tr>\n",
       "    <tr>\n",
       "      <th>3</th>\n",
       "      <td>3</td>\n",
       "      <td>swanu flag inspired swapo flag ?</td>\n",
       "      <td>1</td>\n",
       "    </tr>\n",
       "    <tr>\n",
       "      <th>4</th>\n",
       "      <td>4</td>\n",
       "      <td>swapo wants rule enrich pockets like pm. kak b...</td>\n",
       "      <td>1</td>\n",
       "    </tr>\n",
       "    <tr>\n",
       "      <th>12</th>\n",
       "      <td>12</td>\n",
       "      <td>swapo elite becoming desperate understand days...</td>\n",
       "      <td>1</td>\n",
       "    </tr>\n",
       "    <tr>\n",
       "      <th>13</th>\n",
       "      <td>13</td>\n",
       "      <td>swapo , put people swapo power ? national flag...</td>\n",
       "      <td>1</td>\n",
       "    </tr>\n",
       "    <tr>\n",
       "      <th>...</th>\n",
       "      <td>...</td>\n",
       "      <td>...</td>\n",
       "      <td>...</td>\n",
       "    </tr>\n",
       "    <tr>\n",
       "      <th>135</th>\n",
       "      <td>135</td>\n",
       "      <td>swapo grandfather</td>\n",
       "      <td>0</td>\n",
       "    </tr>\n",
       "    <tr>\n",
       "      <th>136</th>\n",
       "      <td>136</td>\n",
       "      <td>china russia cold war time see eye eye. china ...</td>\n",
       "      <td>0</td>\n",
       "    </tr>\n",
       "    <tr>\n",
       "      <th>140</th>\n",
       "      <td>140</td>\n",
       "      <td>swapo founded day</td>\n",
       "      <td>0</td>\n",
       "    </tr>\n",
       "    <tr>\n",
       "      <th>144</th>\n",
       "      <td>144</td>\n",
       "      <td>mekondjo cases , complaints even taken serious...</td>\n",
       "      <td>0</td>\n",
       "    </tr>\n",
       "    <tr>\n",
       "      <th>147</th>\n",
       "      <td>147</td>\n",
       "      <td>vulnerable people getting vouchers use agra in...</td>\n",
       "      <td>0</td>\n",
       "    </tr>\n",
       "  </tbody>\n",
       "</table>\n",
       "<p>148 rows × 3 columns</p>\n",
       "</div>"
      ],
      "text/plain": [
       "     Unnamed: 0                                              Tweet  \\\n",
       "2             2  immanuel benefits swapo wants stay power till ...   \n",
       "3             3                   swanu flag inspired swapo flag ?   \n",
       "4             4  swapo wants rule enrich pockets like pm. kak b...   \n",
       "12           12  swapo elite becoming desperate understand days...   \n",
       "13           13  swapo , put people swapo power ? national flag...   \n",
       "..          ...                                                ...   \n",
       "135         135                                  swapo grandfather   \n",
       "136         136  china russia cold war time see eye eye. china ...   \n",
       "140         140                                  swapo founded day   \n",
       "144         144  mekondjo cases , complaints even taken serious...   \n",
       "147         147  vulnerable people getting vouchers use agra in...   \n",
       "\n",
       "     VADERsentiment  \n",
       "2                 1  \n",
       "3                 1  \n",
       "4                 1  \n",
       "12                1  \n",
       "13                1  \n",
       "..              ...  \n",
       "135               0  \n",
       "136               0  \n",
       "140               0  \n",
       "144               0  \n",
       "147               0  \n",
       "\n",
       "[148 rows x 3 columns]"
      ]
     },
     "execution_count": 12,
     "metadata": {},
     "output_type": "execute_result"
    }
   ],
   "source": [
    "balanced_binary_df"
   ]
  },
  {
   "cell_type": "code",
   "execution_count": 13,
   "id": "587cfaaf-69e7-41fe-ac99-601f4a4e9def",
   "metadata": {},
   "outputs": [
    {
     "data": {
      "text/plain": [
       "1    79\n",
       "0    69\n",
       "Name: VADERsentiment, dtype: int64"
      ]
     },
     "execution_count": 13,
     "metadata": {},
     "output_type": "execute_result"
    }
   ],
   "source": [
    "balanced_binary_df['VADERsentiment'].value_counts()"
   ]
  },
  {
   "cell_type": "code",
   "execution_count": 14,
   "id": "db205af7-5d45-4441-96c1-606869f7d64a",
   "metadata": {},
   "outputs": [],
   "source": [
    "tweets = balanced_binary_df['Tweet']\n",
    "sentiments = balanced_binary_df['VADERsentiment']"
   ]
  },
  {
   "cell_type": "code",
   "execution_count": 15,
   "id": "662382cc-8ca2-45b2-bb6e-85d43544fcec",
   "metadata": {},
   "outputs": [],
   "source": [
    "X_train, X_test, y_train, y_test  = train_test_split(tweets, sentiments, test_size=0.2, random_state=42)"
   ]
  },
  {
   "cell_type": "code",
   "execution_count": 16,
   "id": "a62a9ec5-cfd6-407a-b7e7-4e1c3b6c0cf4",
   "metadata": {},
   "outputs": [],
   "source": [
    "cv = CountVectorizer(analyzer='word', ngram_range=(1,2)) "
   ]
  },
  {
   "cell_type": "code",
   "execution_count": 17,
   "id": "064adeab-3dfb-4410-a5a2-c527aad46fb0",
   "metadata": {},
   "outputs": [],
   "source": [
    "cv_train_features = cv.fit_transform(X_train) "
   ]
  },
  {
   "cell_type": "code",
   "execution_count": 18,
   "id": "21aa79ff-2480-4084-b29a-9a80fcb90efb",
   "metadata": {},
   "outputs": [],
   "source": [
    "cv_test_features = cv.transform(X_test)"
   ]
  },
  {
   "cell_type": "code",
   "execution_count": 19,
   "id": "4fa72c25-e1ac-4a55-9bc6-c1e3edc64f5e",
   "metadata": {},
   "outputs": [],
   "source": [
    "# Support vector machine model\n",
    "svm = SGDClassifier(loss='hinge', l1_ratio=0.15, max_iter=300, n_jobs=4, random_state=101)\n",
    "# Decision tree model\n",
    "dt = DecisionTreeClassifier(criterion = 'entropy', random_state = 0)\n",
    "# Random forest model\n",
    "rf = RandomForestClassifier(n_estimators = 10, criterion = 'entropy', random_state = 0)\n",
    "# Logistic regression model\n",
    "lr = LogisticRegression(max_iter=100, C=1, multi_class='auto', solver='lbfgs')\n",
    "# Kernel svm model\n",
    "kernel_svm = SVC(kernel = 'rbf', random_state = 0, gamma='scale')\n",
    "# K nearest neighbours model\n",
    "knn = KNeighborsClassifier(n_neighbors = 5, metric = 'minkowski', p = 2)"
   ]
  },
  {
   "cell_type": "code",
   "execution_count": 20,
   "id": "5a845dca-d980-44a7-be12-d3dda7400b26",
   "metadata": {},
   "outputs": [],
   "source": [
    "## Ensemble Technique"
   ]
  },
  {
   "cell_type": "code",
   "execution_count": 21,
   "id": "25574bc0-8244-4289-8aaf-77bdc6cdcc90",
   "metadata": {},
   "outputs": [
    {
     "ename": "NameError",
     "evalue": "name 'VotingClassifier' is not defined",
     "output_type": "error",
     "traceback": [
      "\u001b[0;31m---------------------------------------------------------------------------\u001b[0m",
      "\u001b[0;31mNameError\u001b[0m                                 Traceback (most recent call last)",
      "Input \u001b[0;32mIn [21]\u001b[0m, in \u001b[0;36m<cell line: 1>\u001b[0;34m()\u001b[0m\n\u001b[0;32m----> 1\u001b[0m classifier \u001b[38;5;241m=\u001b[39m \u001b[43mVotingClassifier\u001b[49m(estimators\u001b[38;5;241m=\u001b[39m[(\u001b[38;5;124m'\u001b[39m\u001b[38;5;124msvm\u001b[39m\u001b[38;5;124m'\u001b[39m, svm), (\u001b[38;5;124m'\u001b[39m\u001b[38;5;124mdt\u001b[39m\u001b[38;5;124m'\u001b[39m, dt),(\u001b[38;5;124m'\u001b[39m\u001b[38;5;124mrf\u001b[39m\u001b[38;5;124m'\u001b[39m, rf), (\u001b[38;5;124m'\u001b[39m\u001b[38;5;124mlr\u001b[39m\u001b[38;5;124m'\u001b[39m, lr), (\u001b[38;5;124m'\u001b[39m\u001b[38;5;124mkernel_svm\u001b[39m\u001b[38;5;124m'\u001b[39m, kernel_svm), (\u001b[38;5;124m'\u001b[39m\u001b[38;5;124mknn\u001b[39m\u001b[38;5;124m'\u001b[39m, knn)], voting\u001b[38;5;241m=\u001b[39m\u001b[38;5;124m'\u001b[39m\u001b[38;5;124mhard\u001b[39m\u001b[38;5;124m'\u001b[39m)\n",
      "\u001b[0;31mNameError\u001b[0m: name 'VotingClassifier' is not defined"
     ]
    }
   ],
   "source": [
    "classifier = VotingClassifier(estimators=[('svm', svm), ('dt', dt),('rf', rf), ('lr', lr), ('kernel_svm', kernel_svm), ('knn', knn)], voting='hard')"
   ]
  },
  {
   "cell_type": "code",
   "execution_count": null,
   "id": "f922e85c-520e-48f4-b154-d0d6a5df210b",
   "metadata": {},
   "outputs": [],
   "source": [
    "def train_predict_model(classifier,  train_features, train_labels,  test_features, test_labels):\n",
    "    \n",
    "    # build the model    \n",
    "    classifier.fit(train_features, train_labels)\n",
    "    # make predictions using model\n",
    "    y_pred = classifier.predict(test_features) \n",
    "    \n",
    "    return y_pred"
   ]
  },
  {
   "cell_type": "code",
   "execution_count": null,
   "id": "22b82804-745a-4b78-b121-695f19f5d3a7",
   "metadata": {},
   "outputs": [],
   "source": [
    "y_pred = train_predict_model(classifier=classifier,\n",
    "                             train_features=cv_train_features,\n",
    "                             train_labels= y_train,\n",
    "                             test_features=cv_test_features,\n",
    "                             test_labels= y_test)"
   ]
  },
  {
   "cell_type": "code",
   "execution_count": null,
   "id": "ebf4f01e-6904-42ea-a46c-5270620c4ff9",
   "metadata": {},
   "outputs": [],
   "source": [
    "cm = confusion_matrix(y_test, y_pred)\n",
    "accuracy = accuracy_score(y_test, y_pred)\n",
    "f1 = f1_score(y_test, y_pred, average='weighted')\n",
    "\n",
    "# Print out the results\n",
    "print('Confusion Matrix:', '\\n')\n",
    "print(cm, '\\n')\n",
    "print('Accuracy = ', accuracy)\n",
    "print('F1 Score = ',f1, '\\n')\n",
    "print(classification_report(y_test, y_pred))"
   ]
  },
  {
   "cell_type": "code",
   "execution_count": null,
   "id": "e91d51f4-7e31-4890-9690-863456c5d50b",
   "metadata": {},
   "outputs": [],
   "source": [
    "new_tweets = df['Tweet'].iloc[10:30]"
   ]
  },
  {
   "cell_type": "code",
   "execution_count": null,
   "id": "d1fd2651-8d0d-4ecb-b061-dc77b5c5c62c",
   "metadata": {},
   "outputs": [],
   "source": [
    "newtext_features = cv.transform(new_tweets)"
   ]
  },
  {
   "cell_type": "code",
   "execution_count": null,
   "id": "e999b240-63ba-4ef9-ab38-622eefffeb49",
   "metadata": {},
   "outputs": [],
   "source": [
    "new_result = classifier.predict(newtext_features)\n",
    "print(new_result)"
   ]
  },
  {
   "cell_type": "code",
   "execution_count": null,
   "id": "bdc9aa93-2bdf-4e78-87f8-ca42a6c2c071",
   "metadata": {
    "tags": []
   },
   "outputs": [],
   "source": [
    "from IPython.core.interactiveshell import InteractiveShell\n",
    "InteractiveShell.ast_node_interactivity = \"all\"\n",
    "from simpletransformers.classification import ClassificationModel\n",
    "\n",
    "import pandas as pd\n",
    "import sklearn\n",
    "from sklearn.model_selection import train_test_split\n",
    "import random\n",
    "import numpy as np\n",
    "import torch\n",
    "from sklearn.model_selection import KFold\n",
    "\n",
    "import logging\n",
    "from pathlib import Path"
   ]
  },
  {
   "cell_type": "code",
   "execution_count": null,
   "id": "c4ba9243-9d50-4fa1-8e32-4e25f4dcdb1d",
   "metadata": {},
   "outputs": [],
   "source": [
    "balanced_binary_df['VADERsentiment'].value_counts()"
   ]
  },
  {
   "cell_type": "code",
   "execution_count": null,
   "id": "d5ae4d5e-745b-4953-90de-437972f5172d",
   "metadata": {},
   "outputs": [],
   "source": [
    "\n"
   ]
  },
  {
   "cell_type": "code",
   "execution_count": null,
   "id": "9313179e-cf19-4f36-8d69-94fb54f4db23",
   "metadata": {},
   "outputs": [],
   "source": [
    "df['VADERsentiment'].value_counts()"
   ]
  },
  {
   "cell_type": "code",
   "execution_count": null,
   "id": "7060d460-ab32-433f-a130-b65e4cbf0b4a",
   "metadata": {},
   "outputs": [],
   "source": [
    "train_df, val_df = train_test_split(balanced_binary_df, test_size=0.2,  random_state=42)"
   ]
  },
  {
   "cell_type": "code",
   "execution_count": null,
   "id": "9d2573e9-26b1-4fc8-a3b4-2d19f3168357",
   "metadata": {},
   "outputs": [],
   "source": [
    "train_df['VADERsentiment'].value_counts()\n",
    "val_df['VADERsentiment'].value_counts()"
   ]
  },
  {
   "cell_type": "markdown",
   "id": "04103cf8-dad7-45d1-b62d-763cec2aa884",
   "metadata": {},
   "source": []
  },
  {
   "cell_type": "code",
   "execution_count": null,
   "id": "e6fd71b2-bc11-46bd-9d9e-2485eec9ee4b",
   "metadata": {},
   "outputs": [],
   "source": []
  },
  {
   "cell_type": "code",
   "execution_count": null,
   "id": "a5950625-d5a6-4bfd-b4b5-02ab40dddd5e",
   "metadata": {},
   "outputs": [],
   "source": []
  },
  {
   "cell_type": "code",
   "execution_count": null,
   "id": "da4ce7f0-598c-4db7-834f-e43d4b057e7d",
   "metadata": {},
   "outputs": [],
   "source": []
  },
  {
   "cell_type": "code",
   "execution_count": null,
   "id": "f21a3f8d-c347-46b1-94b7-e31551842c61",
   "metadata": {},
   "outputs": [],
   "source": []
  },
  {
   "cell_type": "code",
   "execution_count": null,
   "id": "092c99fd-9d8a-426b-a254-49fea10454ce",
   "metadata": {},
   "outputs": [],
   "source": []
  },
  {
   "cell_type": "code",
   "execution_count": null,
   "id": "8da3c221-4094-433d-b130-e98d9e6adb38",
   "metadata": {},
   "outputs": [],
   "source": []
  },
  {
   "cell_type": "code",
   "execution_count": null,
   "id": "faa76d48-5447-4e80-8912-58f328908cdf",
   "metadata": {},
   "outputs": [],
   "source": []
  }
 ],
 "metadata": {
  "kernelspec": {
   "display_name": "Python 3.8",
   "language": "python",
   "name": "python3"
  },
  "language_info": {
   "codemirror_mode": {
    "name": "ipython",
    "version": 3
   },
   "file_extension": ".py",
   "mimetype": "text/x-python",
   "name": "python",
   "nbconvert_exporter": "python",
   "pygments_lexer": "ipython3",
   "version": "3.8.10"
  }
 },
 "nbformat": 4,
 "nbformat_minor": 5
}
