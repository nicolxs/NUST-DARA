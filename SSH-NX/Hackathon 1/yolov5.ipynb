{
 "cells": [
  {
   "cell_type": "code",
   "execution_count": null,
   "id": "013c4887-a0a4-4bef-bf9f-94dc52dbbe73",
   "metadata": {},
   "outputs": [],
   "source": []
  },
  {
   "cell_type": "code",
   "execution_count": 13,
   "id": "929a3f0b-15ae-451c-82e3-ed34e17e6960",
   "metadata": {},
   "outputs": [
    {
     "name": "stdout",
     "output_type": "stream",
     "text": [
      "[Errno 2] No such file or directory: 'yolov5'\n",
      "/home/nust61/NUST-DARA/SSH-NX/Hackathon 1/yolov5\n"
     ]
    }
   ],
   "source": [
    "%cd yolov5\n",
    "import torch\n",
    "from yolov5 import utils\n",
    "import torch\n",
    "import utils\n",
    "from IPython import display\n",
    "from IPython.display import clear_output\n",
    "from pathlib import Path\n",
    "import yaml\n",
    "import matplotlib.pyplot as plt\n",
    "import matplotlib.image as mpimg\n",
    "import glob\n",
    "\n",
    "\n",
    "%matplotlib inline\n"
   ]
  },
  {
   "cell_type": "code",
   "execution_count": 14,
   "id": "71a8f35c-2050-4d3c-ac4a-5c67e61075ce",
   "metadata": {},
   "outputs": [],
   "source": [
    "def create_data_directories(data_name):\n",
    "    Path(f\"../datasets/{data_name}/images/train\").mkdir(parents=True, exist_ok=True)\n",
    "    Path(f\"../datasets/{data_name}/images/valid\").mkdir(parents=True, exist_ok=True)\n",
    "    Path(f\"../datasets/{data_name}/images/test\").mkdir(parents=True, exist_ok=True)\n",
    "    Path(f\"../datasets/{data_name}/labels/train\").mkdir(parents=True, exist_ok=True)\n",
    "    Path(f\"../datasets/{data_name}/labels/valid\").mkdir(parents=True, exist_ok=True)\n",
    "    Path(f\"../datasets/{data_name}/labels/test\").mkdir(parents=True, exist_ok=True)\n",
    "\n",
    "    \n",
    "create_data_directories('Penguins_data')"
   ]
  },
  {
   "cell_type": "code",
   "execution_count": 15,
   "id": "7446e59b-ef9e-4c32-a545-09604e48b3a9",
   "metadata": {},
   "outputs": [
    {
     "name": "stdout",
     "output_type": "stream",
     "text": [
      "cat: data/penguins_data.yaml: No such file or directory\n",
      "---------------------------------------------\n"
     ]
    }
   ],
   "source": [
    "!cat data/penguins_data.yaml\n",
    "print ('---------------------------------------------')"
   ]
  },
  {
   "cell_type": "code",
   "execution_count": 21,
   "id": "fb30cb0c-9858-4ca4-a934-93c640831a36",
   "metadata": {},
   "outputs": [
    {
     "name": "stdout",
     "output_type": "stream",
     "text": [
      "Traceback (most recent call last):\n",
      "  File \"train.py\", line 24, in <module>\n",
      "    import numpy as np\n",
      "ModuleNotFoundError: No module named 'numpy'\n"
     ]
    }
   ],
   "source": [
    "!python train.py --batch 32 --epochs 150 --data 'data/penguins_data.yaml' --weights 'yolov5s6.pt' --project 'runs_penguins' --name 'feature_extraction' --cache --freeze 12\n"
   ]
  },
  {
   "cell_type": "code",
   "execution_count": null,
   "id": "38b32a43-d749-4355-93cd-ee99caaca9ce",
   "metadata": {},
   "outputs": [],
   "source": []
  },
  {
   "cell_type": "code",
   "execution_count": null,
   "id": "424eac3f-d4a2-4577-93fc-503a470331d0",
   "metadata": {},
   "outputs": [],
   "source": []
  }
 ],
 "metadata": {
  "kernelspec": {
   "display_name": "Python 3.8",
   "language": "python",
   "name": "python3"
  },
  "language_info": {
   "codemirror_mode": {
    "name": "ipython",
    "version": 3
   },
   "file_extension": ".py",
   "mimetype": "text/x-python",
   "name": "python",
   "nbconvert_exporter": "python",
   "pygments_lexer": "ipython3",
   "version": "3.8.10"
  }
 },
 "nbformat": 4,
 "nbformat_minor": 5
}
